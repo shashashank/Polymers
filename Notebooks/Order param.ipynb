{
 "cells": [
  {
   "cell_type": "code",
   "execution_count": 1,
   "id": "216aba74",
   "metadata": {},
   "outputs": [],
   "source": [
    "import time\n",
    "import random\n",
    "import numpy as np\n",
    "import matplotlib.pyplot as plt\n",
    "from numba import prange,jit\n",
    "from scipy.optimize import curve_fit, root_scalar\n",
    "from numpy.random import default_rng\n",
    "import csv"
   ]
  },
  {
   "cell_type": "code",
   "execution_count": 2,
   "id": "57099ef9",
   "metadata": {},
   "outputs": [],
   "source": [
    "@jit(fastmath=True, nopython=True, nogil=True)\n",
    "def distance(a, b):\n",
    "    X = b[0] - a[0]\n",
    "    Y = b[1] - a[1]\n",
    "    return np.sqrt(X*X + Y*Y)\n",
    "@jit(fastmath=True, nopython=True, nogil=True)\n",
    "def angle(inner, outer):\n",
    "    X = outer[0] - inner[0]\n",
    "    Y = outer[1] - inner[1]\n",
    "    return np.arctan2(Y, X)\n",
    "\n",
    "@jit(fastmath=True, nopython=True, nogil=True)\n",
    "def moster(positions):\n",
    "    inv_N = 1/N\n",
    "    nb = 2**(1/6) #neighbouring distance limit\n",
    "    ψ = 0\n",
    "\n",
    "    for i in range(50):\n",
    "        ϕ = 0\n",
    "        for j in range(N):\n",
    "            l = 0\n",
    "            tagged = [positions[i][j][0], positions[i][j][1]]\n",
    "            neighbours = 0\n",
    "            for k in range(N):\n",
    "                if k!=j:\n",
    "                    p = distance(positions[i][j], positions[i][k])\n",
    "                    if p < nb:\n",
    "                        outer = [positions[i][k][0], positions[i][k][1]]\n",
    "                        l += 1\n",
    "                        neighbours += np.e**(6j*angle(tagged, outer))\n",
    "            if l!=0:\n",
    "                ϕ += neighbours/l\n",
    "        ψ += np.abs(ϕ)\n",
    "    return ψ\n",
    "\n"
   ]
  },
  {
   "cell_type": "markdown",
   "id": "d136d86c",
   "metadata": {},
   "source": [
    "Phi0.7Pe200: 0.2168720742490104   <br />\n",
    "Phi0.6Pe120: 0.14364299131660785  <br />\n",
    "Phi0.6Pe060: 0.03297213442386902  <br />\n",
    "Phi0.6Pe020: 0.03061689740763264  <br />\n",
    "Phi0.5Pe040: 0.027703974815694966 <br />\n",
    "Phi0.6Pe060:\n"
   ]
  },
  {
   "cell_type": "code",
   "execution_count": 5,
   "id": "50a52c82",
   "metadata": {},
   "outputs": [],
   "source": [
    "Phi = np.array(['0.4'])\n",
    "Pe = np.array(['140'])"
   ]
  },
  {
   "cell_type": "code",
   "execution_count": 6,
   "id": "d03a9827",
   "metadata": {},
   "outputs": [
    {
     "name": "stdout",
     "output_type": "stream",
     "text": [
      "Phi0.4Pe140\t0.024184012580544013\n"
     ]
    },
    {
     "ename": "IndexError",
     "evalue": "index 1 is out of bounds for axis 0 with size 1",
     "output_type": "error",
     "traceback": [
      "\u001b[0;31m---------------------------------------------------------------------------\u001b[0m",
      "\u001b[0;31mIndexError\u001b[0m                                Traceback (most recent call last)",
      "\u001b[0;32m/tmp/ipykernel_29554/2196040468.py\u001b[0m in \u001b[0;36m<module>\u001b[0;34m\u001b[0m\n\u001b[1;32m      1\u001b[0m \u001b[0;32mfor\u001b[0m \u001b[0mm\u001b[0m \u001b[0;32min\u001b[0m \u001b[0mrange\u001b[0m\u001b[0;34m(\u001b[0m\u001b[0;36m4\u001b[0m\u001b[0;34m)\u001b[0m\u001b[0;34m:\u001b[0m\u001b[0;34m\u001b[0m\u001b[0;34m\u001b[0m\u001b[0m\n\u001b[1;32m      2\u001b[0m     \u001b[0;32mfor\u001b[0m \u001b[0mn\u001b[0m \u001b[0;32min\u001b[0m \u001b[0mrange\u001b[0m\u001b[0;34m(\u001b[0m\u001b[0;36m4\u001b[0m\u001b[0;34m)\u001b[0m\u001b[0;34m:\u001b[0m\u001b[0;34m\u001b[0m\u001b[0;34m\u001b[0m\u001b[0m\n\u001b[0;32m----> 3\u001b[0;31m         \u001b[0mname\u001b[0m \u001b[0;34m=\u001b[0m \u001b[0;34m'Simulated/Phi'\u001b[0m \u001b[0;34m+\u001b[0m \u001b[0mstr\u001b[0m\u001b[0;34m(\u001b[0m\u001b[0mPhi\u001b[0m\u001b[0;34m[\u001b[0m\u001b[0mm\u001b[0m\u001b[0;34m]\u001b[0m\u001b[0;34m)\u001b[0m \u001b[0;34m+\u001b[0m \u001b[0;34m'Pe'\u001b[0m \u001b[0;34m+\u001b[0m \u001b[0mstr\u001b[0m\u001b[0;34m(\u001b[0m\u001b[0mPe\u001b[0m\u001b[0;34m[\u001b[0m\u001b[0mn\u001b[0m\u001b[0;34m]\u001b[0m\u001b[0;34m)\u001b[0m \u001b[0;34m+\u001b[0m \u001b[0;34m'/vmd_data.xyz'\u001b[0m\u001b[0;34m\u001b[0m\u001b[0;34m\u001b[0m\u001b[0m\n\u001b[0m\u001b[1;32m      4\u001b[0m         \u001b[0;32mwith\u001b[0m \u001b[0mopen\u001b[0m\u001b[0;34m(\u001b[0m\u001b[0mname\u001b[0m\u001b[0;34m)\u001b[0m \u001b[0;32mas\u001b[0m \u001b[0mf\u001b[0m\u001b[0;34m:\u001b[0m\u001b[0;34m\u001b[0m\u001b[0;34m\u001b[0m\u001b[0m\n\u001b[1;32m      5\u001b[0m             \u001b[0mreader\u001b[0m \u001b[0;34m=\u001b[0m \u001b[0mcsv\u001b[0m\u001b[0;34m.\u001b[0m\u001b[0mreader\u001b[0m\u001b[0;34m(\u001b[0m\u001b[0mf\u001b[0m\u001b[0;34m,\u001b[0m \u001b[0mdelimiter\u001b[0m\u001b[0;34m=\u001b[0m\u001b[0;34m\" \"\u001b[0m\u001b[0;34m)\u001b[0m\u001b[0;34m\u001b[0m\u001b[0;34m\u001b[0m\u001b[0m\n",
      "\u001b[0;31mIndexError\u001b[0m: index 1 is out of bounds for axis 0 with size 1"
     ]
    }
   ],
   "source": [
    "for m in range(4):\n",
    "    for n in range(4):\n",
    "        name = 'Simulated/Phi' + str(Phi[m]) + 'Pe' + str(Pe[n]) + '/vmd_data.xyz'\n",
    "        with open(name) as f:\n",
    "            reader = csv.reader(f, delimiter=\" \")\n",
    "            d = list(reader)\n",
    "\n",
    "        N = int(d[0][0])\n",
    "        iters_d = int(len(d)/(N+2))\n",
    "        d_marks = np.zeros(iters_d)\n",
    "        for i in range(iters_d):\n",
    "            if i==0: d_marks[i] = 2\n",
    "            else: d_marks[i] = 2 + N + d_marks[i-1]\n",
    "\n",
    "        pos = np.zeros((50,N,2))\n",
    "        start_pt=450\n",
    "        for i in range(50):\n",
    "            for j in range(N):\n",
    "                k = int(d_marks[i+start_pt] + j)\n",
    "                pos[i][j] = [float(d[k][1]), float(d[k][2])]\n",
    "\n",
    "\n",
    "        ψ = moster(pos)\n",
    "        trial = 'Phi' + str(Phi[m]) + 'Pe' + str(Pe[n])\n",
    "        print(trial + \"\\t\" + str(ψ/(N*50)))"
   ]
  },
  {
   "cell_type": "code",
   "execution_count": 33,
   "id": "c711a1f8",
   "metadata": {},
   "outputs": [
    {
     "data": {
      "text/plain": [
       "<matplotlib.collections.PathCollection at 0x7f011ae26ee0>"
      ]
     },
     "execution_count": 33,
     "metadata": {},
     "output_type": "execute_result"
    },
    {
     "data": {
      "image/png": "[encoded data removed]",
      "text/plain": [
       "<Figure size 432x288 with 1 Axes>"
      ]
     },
     "metadata": {
      "needs_background": "light"
     },
     "output_type": "display_data"
    }
   ],
   "source": [
    "np.shape(pos)\n",
    "xi = pos[40][:]\n",
    "np.shape(x)\n",
    "x = np.zeros(len(xi))\n",
    "y = np.zeros(len(xi))\n",
    "\n",
    "for i in range(len(xi)):\n",
    "    x[i] = xi[i][0]\n",
    "    y[i] = xi[i][1]\n",
    "\n",
    "plt.scatter(x, y)"
   ]
  },
  {
   "cell_type": "code",
   "execution_count": 36,
   "id": "4ddcd46f",
   "metadata": {},
   "outputs": [
    {
     "name": "stdout",
     "output_type": "stream",
     "text": [
      "(-14.9389985159671+28.536568038276407j)\n"
     ]
    }
   ],
   "source": [
    "nb = 2**(1/6)\n",
    "N = len(x)\n",
    "ϕ = 0\n",
    "    for j in range(N):\n",
    "        l = 0\n",
    "        tagged = [x[j], y[j]]\n",
    "        neighbours = 0\n",
    "        for k in range(N):\n",
    "            if k!=j:\n",
    "                p = distance([x[j],y[j]], [x[k],y[k]])\n",
    "                if p < nb:\n",
    "                    outer = [x[k], y[k]]\n",
    "                    l += 1\n",
    "                    neighbours += np.e**(6j*angle(tagged, outer))\n",
    "        if l!=0:\n",
    "            ϕ += neighbours/l\n",
    "print(ϕ)"
   ]
  },
  {
   "cell_type": "code",
   "execution_count": 39,
   "id": "6078dd33",
   "metadata": {},
   "outputs": [
    {
     "data": {
      "text/plain": [
       "32.21039260957938"
      ]
     },
     "execution_count": 39,
     "metadata": {},
     "output_type": "execute_result"
    }
   ],
   "source": [
    "np.abs(ϕ)"
   ]
  },
  {
   "cell_type": "code",
   "execution_count": 5,
   "id": "632a9396",
   "metadata": {},
   "outputs": [],
   "source": [
    "Phi = np.array(['0.8'])\n",
    "Pe = np.array(['020', '060', '100', '140', '180', '220'])"
   ]
  },
  {
   "cell_type": "code",
   "execution_count": 7,
   "id": "ad34ca8b",
   "metadata": {},
   "outputs": [
    {
     "name": "stdout",
     "output_type": "stream",
     "text": [
      "Phi0.8Pe020\t0.11882084919298443\n",
      "Phi0.8Pe060\t0.09109036091654683\n",
      "Phi0.8Pe100\t0.2868481531591415\n",
      "Phi0.8Pe140\t0.3023924476144487\n",
      "Phi0.8Pe180\t0.296605535228029\n",
      "Phi0.8Pe220\t0.30227255531024905\n"
     ]
    }
   ],
   "source": [
    "for m in range(len(Phi)):\n",
    "    for n in range(len(Pe)):\n",
    "        name = 'Simulated/Phi' + str(Phi[m]) + 'Pe' + str(Pe[n]) + '/vmd_data.xyz'\n",
    "        with open(name) as f:\n",
    "            reader = csv.reader(f, delimiter=\" \")\n",
    "            d = list(reader)\n",
    "\n",
    "        N = int(d[0][0])\n",
    "        iters_d = int(len(d)/(N+2))\n",
    "        d_marks = np.zeros(iters_d)\n",
    "        for i in range(iters_d):\n",
    "            if i==0: d_marks[i] = 2\n",
    "            else: d_marks[i] = 2 + N + d_marks[i-1]\n",
    "\n",
    "        pos = np.zeros((50,N,2))\n",
    "        start_pt=iters_d - 50\n",
    "        for i in range(50):\n",
    "            for j in range(N):\n",
    "                k = int(d_marks[i+start_pt] + j)\n",
    "                pos[i][j] = [float(d[k][1]), float(d[k][2])]\n",
    "\n",
    "\n",
    "        ψ = moster(pos)\n",
    "        trial = 'Phi' + str(Phi[m]) + 'Pe' + str(Pe[n])\n",
    "        print(trial + \"\\t\" + str(ψ/(N*50)))"
   ]
  },
  {
   "cell_type": "code",
   "execution_count": null,
   "id": "4e265094",
   "metadata": {},
   "outputs": [],
   "source": []
  }
 ],
 "metadata": {
  "kernelspec": {
   "display_name": "Python 3 (ipykernel)",
   "language": "python",
   "name": "python3"
  },
  "language_info": {
   "codemirror_mode": {
    "name": "ipython",
    "version": 3
   },
   "file_extension": ".py",
   "mimetype": "text/x-python",
   "name": "python",
   "nbconvert_exporter": "python",
   "pygments_lexer": "ipython3",
   "version": "3.9.7"
  }
 },
 "nbformat": 4,
 "nbformat_minor": 5
}
