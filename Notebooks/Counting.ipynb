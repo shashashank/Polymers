{
 "cells": [
  {
   "cell_type": "code",
   "execution_count": 3,
   "metadata": {},
   "outputs": [],
   "source": [
    "import time\n",
    "import random\n",
    "import numpy as np\n",
    "import matplotlib.pyplot as plt\n",
    "from numba import prange,jit\n",
    "from scipy.optimize import curve_fit, root_scalar\n",
    "from numpy.random import default_rng\n",
    "import csv"
   ]
  },
  {
   "cell_type": "code",
   "execution_count": 107,
   "metadata": {
    "scrolled": false
   },
   "outputs": [],
   "source": [
    "# rng = default_rng()\n",
    "# N = 1000\n",
    "# endY = 4\n",
    "# endX = 3\n",
    "# x = rng.uniform(0, endX, N)\n",
    "# y = rng.uniform(0, endY, N)\n",
    "# z = np.column_stack((x,y))"
   ]
  },
  {
   "cell_type": "code",
   "execution_count": 157,
   "metadata": {
    "scrolled": true
   },
   "outputs": [
    {
     "data": {
      "text/plain": [
       "[<matplotlib.lines.Line2D at 0x7f05cc971280>]"
      ]
     },
     "execution_count": 157,
     "metadata": {},
     "output_type": "execute_result"
    },
    {
     "data": {
      "image/png": "[encoded data removed]",
      "text/plain": [
       "<Figure size 432x288 with 1 Axes>"
      ]
     },
     "metadata": {
      "needs_background": "light"
     },
     "output_type": "display_data"
    }
   ],
   "source": [
    "zeros = 85000\n",
    "order = np.zeros(zeros)\n",
    "\n",
    "with open('positions/noMIPS') as f:\n",
    "    reader = csv.reader(f, delimiter=\" \")\n",
    "    d = list(reader)\n",
    "x = np.zeros(len(d))\n",
    "y = np.zeros(len(d))\n",
    "for i in range(len(d)):\n",
    "    x[i] = float(d[i][1])\n",
    "    y[i] = float(d[i][2])\n",
    "    \n",
    "def distance(a, b):\n",
    "    X = b[0] - a[0]\n",
    "    Y = b[1] - a[1]\n",
    "    return np.sqrt(X*X + Y*Y)\n",
    "\n",
    "i_max = 0\n",
    "j_max = 0\n",
    "p_max = 0.0\n",
    "\n",
    "\n",
    "\n",
    "for i in range(N):\n",
    "    for j in range(N):\n",
    "        \n",
    "        if i!=j:\n",
    "            p = np.around(distance([x[i],y[i]], [x[j],y[j]]), 3)*1000\n",
    "            if p_max<p: i_max = i; j_max=j\n",
    "            p_max = p if p_max<p else p_max\n",
    "            order[int(p)] += 1\n",
    "            \n",
    "plt.plot(order)"
   ]
  },
  {
   "cell_type": "code",
   "execution_count": 170,
   "metadata": {
    "scrolled": true
   },
   "outputs": [
    {
     "data": {
      "text/plain": [
       "1122.4620483093731"
      ]
     },
     "execution_count": 170,
     "metadata": {},
     "output_type": "execute_result"
    }
   ],
   "source": [
    "2**(1/6)*1000"
   ]
  },
  {
   "cell_type": "code",
   "execution_count": 62,
   "metadata": {},
   "outputs": [
    {
     "name": "stdout",
     "output_type": "stream",
     "text": [
      "0.05049645661259861\n"
     ]
    }
   ],
   "source": [
    "zeros = 85000\n",
    "order = np.zeros(zeros)\n",
    "nb = 2**(1/6)\n",
    "\n",
    "with open('positions/noMIPS') as f:\n",
    "    reader = csv.reader(f, delimiter=\" \")\n",
    "    d = list(reader)\n",
    "x = np.zeros(len(d))\n",
    "y = np.zeros(len(d))\n",
    "for i in range(len(d)):\n",
    "    x[i] = float(d[i][1])\n",
    "    y[i] = float(d[i][2])\n",
    "\n",
    "def distance(a, b):\n",
    "    X = b[0] - a[0]\n",
    "    Y = b[1] - a[1]\n",
    "    return np.sqrt(X*X + Y*Y)\n",
    "\n",
    "def angle(inner, outer):\n",
    "    X = outer[0] - inner[0]\n",
    "    Y = outer[1] - inner[1]\n",
    "    return np.arctan2(Y, X)\n",
    "\n",
    "\n",
    "inv_N = 1/N\n",
    "ϕ = 0\n",
    "\n",
    "for i in range(N):\n",
    "    nbors = np.zeros([20, 2])\n",
    "    k = 0\n",
    "    inner = [x[i], y[i]]\n",
    "    nbors = 0\n",
    "    for j in range(N):\n",
    "        if i != j:\n",
    "            p = np.around(distance([x[i],y[i]], [x[j],y[j]]), 3)\n",
    "            if p < nb:\n",
    "                outer = [x[j], y[j]]\n",
    "                k += 1\n",
    "                nbors += np.e**(6j*angle(inner, outer))\n",
    "    if k!=0:\n",
    "        ϕ += nbors/k\n",
    "ψ = np.abs(ϕ/N)\n",
    "print(ψ)"
   ]
  },
  {
   "cell_type": "code",
   "execution_count": 180,
   "metadata": {},
   "outputs": [
    {
     "name": "stdout",
     "output_type": "stream",
     "text": [
      "0.07388676351861233\n"
     ]
    }
   ],
   "source": [
    "ψ = np.abs(ϕ/N)\n",
    "print(ψ)"
   ]
  },
  {
   "cell_type": "code",
   "execution_count": 63,
   "metadata": {},
   "outputs": [
    {
     "name": "stdout",
     "output_type": "stream",
     "text": [
      "1936\n"
     ]
    }
   ],
   "source": [
    "print(N)"
   ]
  },
  {
   "cell_type": "code",
   "execution_count": 152,
   "metadata": {},
   "outputs": [
    {
     "name": "stdout",
     "output_type": "stream",
     "text": [
      "[-27.02047, 26.44426]\n",
      "[27.20708, -27.36204]\n"
     ]
    },
    {
     "data": {
      "text/plain": [
       "<matplotlib.collections.PathCollection at 0x7f05cc267a60>"
      ]
     },
     "execution_count": 152,
     "metadata": {},
     "output_type": "execute_result"
    },
    {
     "data": {
      "image/png": "[encoded data removed]",
      "text/plain": [
       "<Figure size 432x288 with 1 Axes>"
      ]
     },
     "metadata": {
      "needs_background": "light"
     },
     "output_type": "display_data"
    }
   ],
   "source": [
    "A = [x[i_max],x[j_max]]\n",
    "B = [y[i_max],y[j_max]]\n",
    "print(A)\n",
    "print(B)\n",
    "plt.scatter(x,y)\n",
    "plt.scatter(A,B)"
   ]
  },
  {
   "cell_type": "code",
   "execution_count": 174,
   "metadata": {},
   "outputs": [
    {
     "data": {
      "text/plain": [
       "array([[0., 0.],\n",
       "       [0., 0.],\n",
       "       [0., 0.],\n",
       "       [0., 0.],\n",
       "       [0., 0.],\n",
       "       [0., 0.],\n",
       "       [0., 0.],\n",
       "       [0., 0.],\n",
       "       [0., 0.],\n",
       "       [0., 0.],\n",
       "       [0., 0.],\n",
       "       [0., 0.],\n",
       "       [0., 0.],\n",
       "       [0., 0.],\n",
       "       [0., 0.],\n",
       "       [0., 0.],\n",
       "       [0., 0.],\n",
       "       [0., 0.],\n",
       "       [0., 0.],\n",
       "       [0., 0.]])"
      ]
     },
     "execution_count": 174,
     "metadata": {},
     "output_type": "execute_result"
    }
   ],
   "source": []
  },
  {
   "cell_type": "code",
   "execution_count": 66,
   "metadata": {},
   "outputs": [],
   "source": [
    "with open('Simulated/Phi0.7Pe200/vmd_data.xyz') as f:\n",
    "    reader = csv.reader(f, delimiter=\" \")\n",
    "    d = list(reader)\n",
    "N = int(d[0][0])\n",
    "iters_d = int(len(d)/(N+2))\n",
    "d_marks = np.zeros(iters_d)\n",
    "for i in range(iters_d):\n",
    "    if i==0: d_marks[i] = 2\n",
    "    else: d_marks[i] = 2 + N + d_marks[i-1]\n"
   ]
  },
  {
   "cell_type": "code",
   "execution_count": 67,
   "metadata": {},
   "outputs": [],
   "source": [
    "positions = np.zeros((50,N,2))\n",
    "start_pt=450\n",
    "for i in range(50):\n",
    "    for j in range(N):\n",
    "        k = int(d_marks[i+start_pt] + j)\n",
    "        positions[i][j] = [float(d[k][1]), float(d[k][2])]"
   ]
  },
  {
   "cell_type": "code",
   "execution_count": 68,
   "metadata": {},
   "outputs": [],
   "source": [
    "nb = 2**(1/6) #neighbouring distance limit\n",
    "\n",
    "def distance(a, b):\n",
    "    X = b[0] - a[0]\n",
    "    Y = b[1] - a[1]\n",
    "    return np.sqrt(X*X + Y*Y)\n",
    "\n",
    "def angle(inner, outer):\n",
    "    X = outer[0] - inner[0]\n",
    "    Y = outer[1] - inner[1]\n",
    "    return np.arctan2(Y, X)\n",
    "\n",
    "\n",
    "inv_N = 1/N\n",
    "ψ = 0\n",
    "\n",
    "for i in range(50):\n",
    "    ϕ = 0\n",
    "    for j in range(N):\n",
    "        l = 0\n",
    "        tagged = [positions[i][j][0], positions[i][j][1]]\n",
    "        neighbours = 0\n",
    "        for k in range(N):\n",
    "            if k!=j:\n",
    "                p = distance(positions[i][j], positions[i][k])\n",
    "                if p < nb:\n",
    "                    outer = [positions[i][k][0], positions[i][k][1]]\n",
    "                    l += 1\n",
    "                    neighbours += np.e**(6j*angle(inner, outer))\n",
    "        if l!=0:\n",
    "            ϕ += neighbours/l\n",
    "    ψ += np.abs(ϕ)"
   ]
  },
  {
   "cell_type": "code",
   "execution_count": 70,
   "metadata": {},
   "outputs": [
    {
     "name": "stdout",
     "output_type": "stream",
     "text": [
      "0.13189746961910828\n"
     ]
    }
   ],
   "source": [
    "print(ψ/(50*N))"
   ]
  },
  {
   "cell_type": "code",
   "execution_count": 71,
   "metadata": {},
   "outputs": [
    {
     "name": "stderr",
     "output_type": "stream",
     "text": [
      "/home/shashank/Applications/miniconda3/lib/python3.9/site-packages/numpy/core/_asarray.py:102: VisibleDeprecationWarning: Creating an ndarray from ragged nested sequences (which is a list-or-tuple of lists-or-tuples-or ndarrays with different lengths or shapes) is deprecated. If you meant to do this, you must specify 'dtype=object' when creating the ndarray.\n",
      "  return array(a, dtype, copy=False, order=order)\n"
     ]
    }
   ],
   "source": [
    "f = np.asarray(d)"
   ]
  },
  {
   "cell_type": "markdown",
   "metadata": {},
   "source": [
    "Old"
   ]
  },
  {
   "cell_type": "code",
   "execution_count": null,
   "metadata": {},
   "outputs": [],
   "source": [
    "with open('Simulated/Phi0.7Pe200/vmd_data.xyz') as f:\n",
    "    reader = csv.reader(f, delimiter=\" \")\n",
    "    d = list(reader)\n",
    "N = int(d[0][0])\n",
    "iters_d = int(len(d)/(N+2))\n",
    "d_marks = np.zeros(iters_d)\n",
    "for i in range(iters_d):\n",
    "    if i==0: d_marks[i] = 2\n",
    "    else: d_marks[i] = 2 + N + d_marks[i-1]\n",
    "\n",
    "\n",
    "positions = np.zeros((50,N,2))\n",
    "start_pt=450\n",
    "for i in range(50):\n",
    "    for j in range(N):\n",
    "        k = int(d_marks[i+start_pt] + j)\n",
    "        positions[i][j] = [float(d[k][1]), float(d[k][2])]\n",
    "\n",
    "        \n",
    "def distance(a, b):\n",
    "    X = b[0] - a[0]\n",
    "    Y = b[1] - a[1]\n",
    "    return np.sqrt(X*X + Y*Y)\n",
    "\n",
    "def angle(inner, outer):\n",
    "    X = outer[0] - inner[0]\n",
    "    Y = outer[1] - inner[1]\n",
    "    return np.arctan2(Y, X)\n",
    "\n",
    "inv_N = 1/N\n",
    "ψ = 0\n",
    "nb = 2**(1/6) #neighbouring distance limit\n",
    "\n",
    "\n",
    "for i in range(50):\n",
    "    ϕ = 0\n",
    "    for j in range(N):\n",
    "        l = 0\n",
    "        tagged = [positions[i][j][0], positions[i][j][1]]\n",
    "        neighbours = 0\n",
    "        for k in range(N):\n",
    "            if k!=j:\n",
    "                p = distance(positions[i][j], positions[i][k])\n",
    "                if p < nb:\n",
    "                    outer = [positions[i][k][0], positions[i][k][1]]\n",
    "                    l += 1\n",
    "                    neighbours += np.e**(6j*angle(tagged, outer))\n",
    "        if l!=0:\n",
    "            ϕ += neighbours/l\n",
    "    ψ += np.abs(ϕ)\n",
    "    \n",
    "\n",
    "print(ψ/(N*50))"
   ]
  }
 ],
 "metadata": {
  "kernelspec": {
   "display_name": "Python 3 (ipykernel)",
   "language": "python",
   "name": "python3"
  },
  "language_info": {
   "codemirror_mode": {
    "name": "ipython",
    "version": 3
   },
   "file_extension": ".py",
   "mimetype": "text/x-python",
   "name": "python",
   "nbconvert_exporter": "python",
   "pygments_lexer": "ipython3",
   "version": "3.9.7"
  }
 },
 "nbformat": 4,
 "nbformat_minor": 2
}
